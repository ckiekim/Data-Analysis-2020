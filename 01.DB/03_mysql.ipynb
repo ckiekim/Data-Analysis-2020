{
 "metadata": {
  "language_info": {
   "codemirror_mode": {
    "name": "ipython",
    "version": 3
   },
   "file_extension": ".py",
   "mimetype": "text/x-python",
   "name": "python",
   "nbconvert_exporter": "python",
   "pygments_lexer": "ipython3",
   "version": "3.8.3-final"
  },
  "orig_nbformat": 2,
  "kernelspec": {
   "name": "python3",
   "display_name": "Python 3"
  }
 },
 "nbformat": 4,
 "nbformat_minor": 2,
 "cells": [
  {
   "source": [
    "# MySQL"
   ],
   "cell_type": "markdown",
   "metadata": {}
  },
  {
   "cell_type": "code",
   "execution_count": 1,
   "metadata": {},
   "outputs": [],
   "source": [
    "import json\n",
    "with open('mysql.json', 'r') as file:\n",
    "    config_str = file.read()\n",
    "config = json.loads(config_str)"
   ]
  },
  {
   "cell_type": "code",
   "execution_count": 2,
   "metadata": {},
   "outputs": [
    {
     "output_type": "execute_result",
     "data": {
      "text/plain": [
       "{'host': 'localhost',\n",
       " 'user': 'hsuser',\n",
       " 'password': 'hspass',\n",
       " 'database': 'bbs_python',\n",
       " 'port': 3306}"
      ]
     },
     "metadata": {},
     "execution_count": 2
    }
   ],
   "source": [
    "config"
   ]
  },
  {
   "cell_type": "code",
   "execution_count": 3,
   "metadata": {},
   "outputs": [],
   "source": [
    "import pymysql\n",
    "conn = pymysql.connect(\n",
    "    host = config['host'],\n",
    "    user = config['user'],\n",
    "    password = config['password'],\n",
    "    database = config['database'],\n",
    "    port = config['port']\n",
    ")"
   ]
  },
  {
   "cell_type": "code",
   "execution_count": 4,
   "metadata": {},
   "outputs": [
    {
     "output_type": "stream",
     "name": "stdout",
     "text": [
      "('admin', '관리자', '2020-11-06')\n('djy', '대조영', '2020-11-06')\n('eskim', '김은숙', '2020-11-06')\n('gdhong', '홍길동', '2020-11-06')\n('wjlee', '이우정', '2020-11-06')\n"
     ]
    }
   ],
   "source": [
    "cur = conn.cursor()\n",
    "sql = \"\"\"SELECT uid, uname, DATE_FORMAT(regDate, '%Y-%m-%d') AS regDate\n",
    "            FROM users WHERE isDeleted=0;\"\"\"\n",
    "cur.execute(sql)\n",
    "rows = cur.fetchall()\n",
    "for row in rows:\n",
    "    print(row)"
   ]
  },
  {
   "cell_type": "code",
   "execution_count": 5,
   "metadata": {},
   "outputs": [
    {
     "output_type": "stream",
     "name": "stdout",
     "text": [
      "{'uid': 'admin', 'uname': '관리자', 'regDate': '2020-11-06'}\n{'uid': 'djy', 'uname': '대조영', 'regDate': '2020-11-06'}\n{'uid': 'eskim', 'uname': '김은숙', 'regDate': '2020-11-06'}\n{'uid': 'gdhong', 'uname': '홍길동', 'regDate': '2020-11-06'}\n{'uid': 'wjlee', 'uname': '이우정', 'regDate': '2020-11-06'}\n"
     ]
    }
   ],
   "source": [
    "cur = conn.cursor(pymysql.cursors.DictCursor)\n",
    "sql = \"\"\"SELECT uid, uname, DATE_FORMAT(regDate, '%Y-%m-%d') AS regDate\n",
    "            FROM users WHERE isDeleted=0;\"\"\"\n",
    "cur.execute(sql)\n",
    "rows = cur.fetchall()\n",
    "for row in rows:\n",
    "    print(row)"
   ]
  },
  {
   "cell_type": "code",
   "execution_count": 6,
   "metadata": {},
   "outputs": [
    {
     "output_type": "execute_result",
     "data": {
      "text/plain": [
       "      uid uname     regDate\n",
       "0   admin   관리자  2020-11-06\n",
       "1     djy   대조영  2020-11-06\n",
       "2   eskim   김은숙  2020-11-06\n",
       "3  gdhong   홍길동  2020-11-06\n",
       "4   wjlee   이우정  2020-11-06"
      ],
      "text/html": "<div>\n<style scoped>\n    .dataframe tbody tr th:only-of-type {\n        vertical-align: middle;\n    }\n\n    .dataframe tbody tr th {\n        vertical-align: top;\n    }\n\n    .dataframe thead th {\n        text-align: right;\n    }\n</style>\n<table border=\"1\" class=\"dataframe\">\n  <thead>\n    <tr style=\"text-align: right;\">\n      <th></th>\n      <th>uid</th>\n      <th>uname</th>\n      <th>regDate</th>\n    </tr>\n  </thead>\n  <tbody>\n    <tr>\n      <th>0</th>\n      <td>admin</td>\n      <td>관리자</td>\n      <td>2020-11-06</td>\n    </tr>\n    <tr>\n      <th>1</th>\n      <td>djy</td>\n      <td>대조영</td>\n      <td>2020-11-06</td>\n    </tr>\n    <tr>\n      <th>2</th>\n      <td>eskim</td>\n      <td>김은숙</td>\n      <td>2020-11-06</td>\n    </tr>\n    <tr>\n      <th>3</th>\n      <td>gdhong</td>\n      <td>홍길동</td>\n      <td>2020-11-06</td>\n    </tr>\n    <tr>\n      <th>4</th>\n      <td>wjlee</td>\n      <td>이우정</td>\n      <td>2020-11-06</td>\n    </tr>\n  </tbody>\n</table>\n</div>"
     },
     "metadata": {},
     "execution_count": 6
    }
   ],
   "source": [
    "import pandas as pd \n",
    "df = pd.DataFrame(rows)\n",
    "df"
   ]
  },
  {
   "cell_type": "code",
   "execution_count": 7,
   "metadata": {},
   "outputs": [
    {
     "output_type": "stream",
     "name": "stdout",
     "text": [
      "(1006, 'wjlee', '이우정', '슬기로운 의사생활', 1, 1, '2020-11-06 15:32:29')\n(1005, 'eskim', '김은숙', '파리의 연인', 2, 2, '2020-11-06 15:32:29')\n(1004, 'eskim', '김은숙', '시크릿 가든', 0, 0, '2020-11-06 15:32:29')\n(1003, 'eskim', '김은숙', '태양의 후예', 0, 0, '2020-11-06 15:32:29')\n(1002, 'eskim', '김은숙', '도깨비', 0, 0, '2020-11-06 15:32:29')\n(1001, 'eskim', '김은숙', '미스터 션샤인', 0, 0, '2020-11-06 15:32:29')\n"
     ]
    }
   ],
   "source": [
    "sql = \"\"\"SELECT b.bid, b.uid, u.uname, b.title, b.viewCount, b.replyCount,  \n",
    "                DATE_FORMAT(b.modTime, '%Y-%m-%d %T') AS modTime\n",
    "                FROM bbs AS b\n",
    "                JOIN users AS u\n",
    "                ON b.uid=u.uid\n",
    "                WHERE b.isDeleted=0\n",
    "                ORDER BY b.bid DESC;\"\"\"\n",
    "cur = conn.cursor()\n",
    "cur.execute(sql)\n",
    "rows = cur.fetchall()\n",
    "for row in rows:\n",
    "    print(row)"
   ]
  },
  {
   "cell_type": "code",
   "execution_count": 8,
   "metadata": {},
   "outputs": [
    {
     "output_type": "error",
     "ename": "ValueError",
     "evalue": "unsupported format character 'Y' (0x59) at index 92",
     "traceback": [
      "\u001b[1;31m---------------------------------------------------------------------------\u001b[0m",
      "\u001b[1;31mValueError\u001b[0m                                Traceback (most recent call last)",
      "\u001b[1;32m<ipython-input-8-c831c7fc880d>\u001b[0m in \u001b[0;36m<module>\u001b[1;34m\u001b[0m\n\u001b[0;32m      6\u001b[0m                 \u001b[0mON\u001b[0m \u001b[0mb\u001b[0m\u001b[1;33m.\u001b[0m\u001b[0muid\u001b[0m\u001b[1;33m=\u001b[0m\u001b[0mu\u001b[0m\u001b[1;33m.\u001b[0m\u001b[0muid\u001b[0m\u001b[1;33m\u001b[0m\u001b[1;33m\u001b[0m\u001b[0m\n\u001b[0;32m      7\u001b[0m                 WHERE b.bid=%s;\"\"\"\n\u001b[1;32m----> 8\u001b[1;33m \u001b[0mcur\u001b[0m\u001b[1;33m.\u001b[0m\u001b[0mexecute\u001b[0m\u001b[1;33m(\u001b[0m\u001b[0msql\u001b[0m\u001b[1;33m,\u001b[0m \u001b[1;33m(\u001b[0m\u001b[1;36m1006\u001b[0m\u001b[1;33m,\u001b[0m\u001b[1;33m)\u001b[0m\u001b[1;33m)\u001b[0m\u001b[1;33m\u001b[0m\u001b[1;33m\u001b[0m\u001b[0m\n\u001b[0m\u001b[0;32m      9\u001b[0m \u001b[0mrow\u001b[0m \u001b[1;33m=\u001b[0m \u001b[0mcur\u001b[0m\u001b[1;33m.\u001b[0m\u001b[0mfetchone\u001b[0m\u001b[1;33m(\u001b[0m\u001b[1;33m)\u001b[0m\u001b[1;33m\u001b[0m\u001b[1;33m\u001b[0m\u001b[0m\n\u001b[0;32m     10\u001b[0m \u001b[0mprint\u001b[0m\u001b[1;33m(\u001b[0m\u001b[0mrow\u001b[0m\u001b[1;33m)\u001b[0m\u001b[1;33m\u001b[0m\u001b[1;33m\u001b[0m\u001b[0m\n",
      "\u001b[1;32mC:\\ProgramData\\Anaconda3\\lib\\site-packages\\pymysql\\cursors.py\u001b[0m in \u001b[0;36mexecute\u001b[1;34m(self, query, args)\u001b[0m\n\u001b[0;32m    159\u001b[0m             \u001b[1;32mpass\u001b[0m\u001b[1;33m\u001b[0m\u001b[1;33m\u001b[0m\u001b[0m\n\u001b[0;32m    160\u001b[0m \u001b[1;33m\u001b[0m\u001b[0m\n\u001b[1;32m--> 161\u001b[1;33m         \u001b[0mquery\u001b[0m \u001b[1;33m=\u001b[0m \u001b[0mself\u001b[0m\u001b[1;33m.\u001b[0m\u001b[0mmogrify\u001b[0m\u001b[1;33m(\u001b[0m\u001b[0mquery\u001b[0m\u001b[1;33m,\u001b[0m \u001b[0margs\u001b[0m\u001b[1;33m)\u001b[0m\u001b[1;33m\u001b[0m\u001b[1;33m\u001b[0m\u001b[0m\n\u001b[0m\u001b[0;32m    162\u001b[0m \u001b[1;33m\u001b[0m\u001b[0m\n\u001b[0;32m    163\u001b[0m         \u001b[0mresult\u001b[0m \u001b[1;33m=\u001b[0m \u001b[0mself\u001b[0m\u001b[1;33m.\u001b[0m\u001b[0m_query\u001b[0m\u001b[1;33m(\u001b[0m\u001b[0mquery\u001b[0m\u001b[1;33m)\u001b[0m\u001b[1;33m\u001b[0m\u001b[1;33m\u001b[0m\u001b[0m\n",
      "\u001b[1;32mC:\\ProgramData\\Anaconda3\\lib\\site-packages\\pymysql\\cursors.py\u001b[0m in \u001b[0;36mmogrify\u001b[1;34m(self, query, args)\u001b[0m\n\u001b[0;32m    138\u001b[0m \u001b[1;33m\u001b[0m\u001b[0m\n\u001b[0;32m    139\u001b[0m         \u001b[1;32mif\u001b[0m \u001b[0margs\u001b[0m \u001b[1;32mis\u001b[0m \u001b[1;32mnot\u001b[0m \u001b[1;32mNone\u001b[0m\u001b[1;33m:\u001b[0m\u001b[1;33m\u001b[0m\u001b[1;33m\u001b[0m\u001b[0m\n\u001b[1;32m--> 140\u001b[1;33m             \u001b[0mquery\u001b[0m \u001b[1;33m=\u001b[0m \u001b[0mquery\u001b[0m \u001b[1;33m%\u001b[0m \u001b[0mself\u001b[0m\u001b[1;33m.\u001b[0m\u001b[0m_escape_args\u001b[0m\u001b[1;33m(\u001b[0m\u001b[0margs\u001b[0m\u001b[1;33m,\u001b[0m \u001b[0mconn\u001b[0m\u001b[1;33m)\u001b[0m\u001b[1;33m\u001b[0m\u001b[1;33m\u001b[0m\u001b[0m\n\u001b[0m\u001b[0;32m    141\u001b[0m \u001b[1;33m\u001b[0m\u001b[0m\n\u001b[0;32m    142\u001b[0m         \u001b[1;32mreturn\u001b[0m \u001b[0mquery\u001b[0m\u001b[1;33m\u001b[0m\u001b[1;33m\u001b[0m\u001b[0m\n",
      "\u001b[1;31mValueError\u001b[0m: unsupported format character 'Y' (0x59) at index 92"
     ]
    }
   ],
   "source": [
    "sql = \"\"\"SELECT b.bid, b.uid, u.uname, b.title, b.content, \n",
    "                DATE_FORMAT(b.modTime, '%Y-%m-%d %T') AS modTime, \n",
    "                b.viewCount, b.replyCount\n",
    "                FROM bbs AS b\n",
    "                JOIN users AS u\n",
    "                ON b.uid=u.uid\n",
    "                WHERE b.bid=%s;\"\"\"\n",
    "cur.execute(sql, (1006,))\n",
    "row = cur.fetchone()\n",
    "print(row)"
   ]
  },
  {
   "cell_type": "code",
   "execution_count": 9,
   "metadata": {},
   "outputs": [
    {
     "output_type": "stream",
     "name": "stdout",
     "text": [
      "(1006, 'wjlee', '이우정', '슬기로운 의사생활', '누군가는 태어나고 누군가는 삶을 끝내는, 인생의 축소판이라 불리는 병원에서 평범한 듯 특별한 하루하루를 살아가는 사람들과 눈빛만 봐도 알 수 있는 20년지기 친구들의 케미스토리를 담은 드라마. 99학번 의대 동기 다섯 명을 중심으로 펼쳐지는 병원에서의 이야기를 그린다.', datetime.datetime(2020, 11, 6, 15, 32, 29), 1, 1)\n"
     ]
    }
   ],
   "source": [
    "sql = \"\"\"SELECT b.bid, b.uid, u.uname, b.title, b.content, \n",
    "                b.modTime, \n",
    "                b.viewCount, b.replyCount\n",
    "                FROM bbs AS b\n",
    "                JOIN users AS u\n",
    "                ON b.uid=u.uid\n",
    "                WHERE b.bid=%s;\"\"\"\n",
    "cur.execute(sql, (1006,))\n",
    "row = cur.fetchone()\n",
    "print(row)"
   ]
  },
  {
   "cell_type": "code",
   "execution_count": 10,
   "metadata": {},
   "outputs": [
    {
     "output_type": "stream",
     "name": "stdout",
     "text": [
      "(1006, 'wjlee', '이우정', '슬기로운 의사생활', '누군가는 태어나고 누군가는 삶을 끝내는, 인생의 축소판이라 불리는 병원에서 평범한 듯 특별한 하루하루를 살아가는 사람들과 눈빛만 봐도 알 수 있는 20년지기 친구들의 케미스토리를 담은 드라마. 99학번 의대 동기 다섯 명을 중심으로 펼쳐지는 병원에서의 이야기를 그린다.', '2020-11-06 15:32:29', 1, 1)\n"
     ]
    }
   ],
   "source": [
    "sql = \"\"\"SELECT b.bid, b.uid, u.uname, b.title, b.content, \n",
    "                DATE_FORMAT(b.modTime, '%%Y-%%m-%%d %%T') AS modTime, \n",
    "                b.viewCount, b.replyCount\n",
    "                FROM bbs AS b\n",
    "                JOIN users AS u\n",
    "                ON b.uid=u.uid\n",
    "                WHERE b.bid=%s;\"\"\"\n",
    "cur.execute(sql, (1006,))\n",
    "row = cur.fetchone()\n",
    "print(row)"
   ]
  },
  {
   "source": [
    "### login"
   ],
   "cell_type": "markdown",
   "metadata": {}
  },
  {
   "cell_type": "code",
   "execution_count": 47,
   "metadata": {},
   "outputs": [],
   "source": [
    "uid = input('uid> ')\n",
    "pwd = input('pwd> ')"
   ]
  },
  {
   "cell_type": "code",
   "execution_count": 50,
   "metadata": {},
   "outputs": [
    {
     "output_type": "stream",
     "name": "stdout",
     "text": [
      "adfsjk 는 등록되지 않은 uid 입니다.\n"
     ]
    }
   ],
   "source": [
    "sql = 'select * from users where uid like %s and isDeleted=0;'\n",
    "cur.execute(sql, (uid,))\n",
    "row = cur.fetchone()\n",
    "if (row):\n",
    "    db_pwd = row[1]\n",
    "    print(db_pwd)\n",
    "else:\n",
    "    print(f'{uid} 는 등록되지 않은 uid 입니다.')"
   ]
  },
  {
   "cell_type": "code",
   "execution_count": 51,
   "metadata": {},
   "outputs": [
    {
     "output_type": "stream",
     "name": "stdout",
     "text": [
      "adfsjk 는 등록되지 않은 uid 입니다.\n"
     ]
    }
   ],
   "source": [
    "try:\n",
    "    sql = 'select * from users where uid like %s and isDeleted=0;'\n",
    "    cur.execute(sql, (uid,))\n",
    "    row = cur.fetchone()\n",
    "    db_pwd = row[1]\n",
    "    print(db_pwd)\n",
    "except:\n",
    "    print(f'{uid} 는 등록되지 않은 uid 입니다.')"
   ]
  },
  {
   "cell_type": "code",
   "execution_count": 42,
   "metadata": {},
   "outputs": [
    {
     "output_type": "execute_result",
     "data": {
      "text/plain": [
       "b\"\\xa5\\x1b\\x9d\\x83\\xa4Nt\\xe6\\xbdw\\x02\\x90'\\x1a*?\\xf5v\\x19\\xe9~\\x93G\\x00L\\x82\\x91\\xc3\\xac\\xc97f\""
      ]
     },
     "metadata": {},
     "execution_count": 42
    }
   ],
   "source": [
    "# SHA256 암호화\n",
    "import hashlib\n",
    "pwd_sha256 = hashlib.sha256(pwd.encode())\n",
    "pwd_sha256.digest()"
   ]
  },
  {
   "cell_type": "code",
   "execution_count": 43,
   "metadata": {},
   "outputs": [
    {
     "output_type": "execute_result",
     "data": {
      "text/plain": [
       "b'pRudg6ROdOa9dwKQJxoqP/V2Gel+k0cATIKRw6zJN2Y='"
      ]
     },
     "metadata": {},
     "execution_count": 43
    }
   ],
   "source": [
    "# Base64로 인코딩\n",
    "import base64\n",
    "base64.b64encode(pwd_sha256.digest())"
   ]
  },
  {
   "cell_type": "code",
   "execution_count": 44,
   "metadata": {},
   "outputs": [
    {
     "output_type": "execute_result",
     "data": {
      "text/plain": [
       "bytes"
      ]
     },
     "metadata": {},
     "execution_count": 44
    }
   ],
   "source": [
    "type(base64.b64encode(pwd_sha256.digest()))"
   ]
  },
  {
   "cell_type": "code",
   "execution_count": 45,
   "metadata": {},
   "outputs": [
    {
     "output_type": "execute_result",
     "data": {
      "text/plain": [
       "'pRudg6ROdOa9dwKQJxoqP/V2Gel+k0cATIKRw6zJN2Y='"
      ]
     },
     "metadata": {},
     "execution_count": 45
    }
   ],
   "source": [
    "# bytes 데이터를 문자열로 변환\n",
    "hashed_pwd = base64.b64encode(pwd_sha256.digest()).decode('utf-8')\n",
    "hashed_pwd"
   ]
  },
  {
   "cell_type": "code",
   "execution_count": 46,
   "metadata": {},
   "outputs": [
    {
     "output_type": "stream",
     "name": "stdout",
     "text": [
      "패스워드가 틀립니다\n"
     ]
    }
   ],
   "source": [
    "if (db_pwd == hashed_pwd):\n",
    "    print('Login 성공')\n",
    "else:\n",
    "    print('패스워드가 틀립니다')"
   ]
  },
  {
   "source": [
    "#### 통합 버전"
   ],
   "cell_type": "markdown",
   "metadata": {}
  },
  {
   "cell_type": "code",
   "execution_count": 56,
   "metadata": {},
   "outputs": [],
   "source": [
    "def get_user_info(uid):\n",
    "    sql = 'select * from users where uid like %s and isDeleted=0;'\n",
    "    cur.execute(sql, (uid,))\n",
    "    row = cur.fetchone()\n",
    "    return row"
   ]
  },
  {
   "cell_type": "code",
   "execution_count": 57,
   "metadata": {},
   "outputs": [
    {
     "output_type": "stream",
     "name": "stdout",
     "text": [
      "Login 성공\n"
     ]
    }
   ],
   "source": [
    "uid = input('uid> ')\n",
    "pwd = input('pwd> ')\n",
    "user_info = get_user_info(uid)\n",
    "if (user_info):\n",
    "    db_pwd = user_info[1]\n",
    "    pwd_sha256 = hashlib.sha256(pwd.encode())\n",
    "    hashed_pwd = base64.b64encode(pwd_sha256.digest()).decode('utf-8')\n",
    "    if (db_pwd == hashed_pwd):\n",
    "        print('Login 성공')\n",
    "    else:\n",
    "        print('패스워드가 틀립니다')\n",
    "else:\n",
    "    print(f'{uid} 는 등록되지 않은 uid 입니다.')"
   ]
  },
  {
   "source": [
    "#### 종료할 때에는 반드시 아래 코드를 수행!!!"
   ],
   "cell_type": "markdown",
   "metadata": {}
  },
  {
   "cell_type": "code",
   "execution_count": 58,
   "metadata": {},
   "outputs": [],
   "source": [
    "cur.close()\n",
    "conn.close()"
   ]
  },
  {
   "cell_type": "code",
   "execution_count": null,
   "metadata": {},
   "outputs": [],
   "source": []
  }
 ]
}