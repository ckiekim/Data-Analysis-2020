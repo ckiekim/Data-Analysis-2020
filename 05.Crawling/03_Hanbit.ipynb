{
 "metadata": {
  "language_info": {
   "codemirror_mode": {
    "name": "ipython",
    "version": 3
   },
   "file_extension": ".py",
   "mimetype": "text/x-python",
   "name": "python",
   "nbconvert_exporter": "python",
   "pygments_lexer": "ipython3",
   "version": "3.8.3-final"
  },
  "orig_nbformat": 2,
  "kernelspec": {
   "name": "python3",
   "display_name": "Python 3"
  }
 },
 "nbformat": 4,
 "nbformat_minor": 2,
 "cells": [
  {
   "source": [
    "# 한빛출판네트워크 새로나온 책 Crawling"
   ],
   "cell_type": "markdown",
   "metadata": {}
  },
  {
   "cell_type": "code",
   "execution_count": 1,
   "metadata": {},
   "outputs": [],
   "source": [
    "from bs4 import BeautifulSoup \n",
    "import urllib.request\n",
    "import pandas as pd "
   ]
  },
  {
   "cell_type": "code",
   "execution_count": 2,
   "metadata": {},
   "outputs": [],
   "source": [
    "base_url = 'https://www.hanbit.co.kr'\n",
    "sub_url = '/academy/books/new_book_list.html'\n",
    "url = base_url + sub_url\n",
    "with urllib.request.urlopen(url) as response:\n",
    "    html = response.read()\n",
    "    soup = BeautifulSoup(html, 'html.parser')"
   ]
  },
  {
   "cell_type": "code",
   "execution_count": 3,
   "metadata": {},
   "outputs": [
    {
     "output_type": "execute_result",
     "data": {
      "text/plain": [
       "20"
      ]
     },
     "metadata": {},
     "execution_count": 3
    }
   ],
   "source": [
    "lis = soup.select('.sub_book_list')\n",
    "len(lis)"
   ]
  },
  {
   "cell_type": "code",
   "execution_count": 4,
   "metadata": {},
   "outputs": [
    {
     "output_type": "execute_result",
     "data": {
      "text/plain": [
       "<li class=\"sub_book_list\">\n",
       "<div class=\"view_box\">\n",
       "<span class=\"view_box_block\">\n",
       "<span class=\"img_hidden_a\">\n",
       "<span class=\"pop_quick_menu\">\n",
       "<a href=\"/academy/books/book_view.html?p_code=B4797877052\"><img alt=\"상세보기\" src=\"https://www.hanbit.co.kr/images/common/icon_view_detail.png\"/></a>\n",
       "<a href=\"javascript:;\" onclick=\"addCart('B4797877052','','1','');\">\n",
       "<img alt=\"장바구니 담기\" src=\"https://www.hanbit.co.kr/images/common/icon_add_cart.png\"/>\n",
       "</a>\n",
       "</span>\n",
       "<span class=\"price\">32,000<span>원</span></span>\n",
       "<span class=\"pop_quick_bg\" onclick=\"location='/academy/books/book_view.html?p_code=B4797877052'\"></span>\n",
       "</span>\n",
       "<!-- 예약도서인 경우 -->\n",
       "<!-- ebook이 도서인 경우 -->\n",
       "<img alt=\"\" class=\"thumb\" src=\"/data/books/B4797877052_m.jpg\"/>\n",
       "</span>\n",
       "<div class=\"info\">\n",
       "<p class=\"book_tit\"><a href=\"/academy/books/book_view.html?p_code=B4797877052\">포르잔 C++ 에센셜</a></p>\n",
       "<p class=\"book_writer\">Behrouz A. Forouzan , Richard F. Gilberg </p>\n",
       "</div>\n",
       "</div>\n",
       "</li>"
      ]
     },
     "metadata": {},
     "execution_count": 4
    }
   ],
   "source": [
    "lis[0]"
   ]
  },
  {
   "cell_type": "code",
   "execution_count": 5,
   "metadata": {},
   "outputs": [
    {
     "output_type": "execute_result",
     "data": {
      "text/plain": [
       "'/academy/books/book_view.html?p_code=B4797877052'"
      ]
     },
     "metadata": {},
     "execution_count": 5
    }
   ],
   "source": [
    "book_url = lis[0].find('a').attrs['href']\n",
    "book_url"
   ]
  },
  {
   "cell_type": "code",
   "execution_count": 6,
   "metadata": {},
   "outputs": [],
   "source": [
    "with urllib.request.urlopen(base_url+book_url) as response:\n",
    "    html = response.read()\n",
    "    book_soup = BeautifulSoup(html, 'html.parser')"
   ]
  },
  {
   "cell_type": "code",
   "execution_count": 7,
   "metadata": {},
   "outputs": [
    {
     "output_type": "execute_result",
     "data": {
      "text/plain": [
       "'포르잔 C++ 에센셜'"
      ]
     },
     "metadata": {},
     "execution_count": 7
    }
   ],
   "source": [
    "info = book_soup.select_one('.store_product_info_box')\n",
    "title = info.find('h3').string\n",
    "title"
   ]
  },
  {
   "cell_type": "code",
   "execution_count": 8,
   "metadata": {},
   "outputs": [
    {
     "output_type": "execute_result",
     "data": {
      "text/plain": [
       "{'저자': 'Behrouz A. Forouzan , Richard F. Gilberg ',\n",
       " '번역': '윤인성 ',\n",
       " '출간': '2020-11-10',\n",
       " '페이지': '756 쪽',\n",
       " 'ISBN': '9791156645061',\n",
       " '물류코드': '4506'}"
      ]
     },
     "metadata": {},
     "execution_count": 8
    }
   ],
   "source": [
    "lis = info.find_all('li')\n",
    "book_dict = {}\n",
    "for li in lis:\n",
    "    idx = li.find('strong').get_text().find(':')\n",
    "    key = li.find('strong').get_text()[:idx-1]\n",
    "    value = li.find('span').get_text()\n",
    "    book_dict.update([[key, value]])\n",
    "book_dict"
   ]
  },
  {
   "cell_type": "code",
   "execution_count": 9,
   "metadata": {},
   "outputs": [
    {
     "output_type": "execute_result",
     "data": {
      "text/plain": [
       "'Behrouz A. Forouzan, Richard F. Gilberg'"
      ]
     },
     "metadata": {},
     "execution_count": 9
    }
   ],
   "source": [
    "al = 'Behrouz A. Forouzan , Richard F. Gilberg '.split(',')\n",
    "al = list(map(lambda s: s.rstrip(), al))\n",
    "','.join(al)"
   ]
  },
  {
   "cell_type": "code",
   "execution_count": 10,
   "metadata": {},
   "outputs": [
    {
     "output_type": "stream",
     "name": "stdout",
     "text": [
      "Behrouz A. Forouzan, Richard F. Gilberg 윤인성 2020-11-10 756 9791156645061\n"
     ]
    }
   ],
   "source": [
    "info = book_soup.select_one('.store_product_info_box')\n",
    "book_lis = info.find_all('li')\n",
    "al = book_lis[0].find('span').get_text().split(',')\n",
    "authors = ','.join(list(map(lambda s: s.rstrip(), al)))\n",
    "\n",
    "for bli in book_lis[1:]:\n",
    "    key = bli.find('strong').get_text()\n",
    "    if key.find('번역') >= 0:\n",
    "        tl = bli.find('span').get_text().split(',')\n",
    "        translators = ','.join(list(map(lambda s: s.rstrip(), tl)))\n",
    "    elif key.find('출간') >= 0:\n",
    "        date = bli.find('span').get_text()\n",
    "    elif key.find('페이지') >= 0:\n",
    "        page = int(bli.find('span').get_text()[:-2])\n",
    "    elif key.find('ISBN') >= 0:\n",
    "        isbn = bli.find('span').get_text()\n",
    "\n",
    "print(authors, translators, date, page, isbn)"
   ]
  },
  {
   "cell_type": "code",
   "execution_count": 11,
   "metadata": {},
   "outputs": [
    {
     "output_type": "stream",
     "name": "stdout",
     "text": [
      "32000 32000 960\n"
     ]
    }
   ],
   "source": [
    "pb_ps = book_soup.select_one('.payment_box').find_all('p')\n",
    "list_prices = []; sales_prices = []; mileages = []\n",
    "\n",
    "idx = pb_ps[0].select_one('.pbr').get_text().find('원')\n",
    "lp = pb_ps[0].select_one('.pbr').get_text()[:idx]\n",
    "lp = int(lp.replace(',',''))\n",
    "\n",
    "idx = pb_ps[1].select_one('.pbr').get_text().find('원')\n",
    "sp = pb_ps[1].select_one('.pbr').get_text()[:idx]\n",
    "sp = int(sp.replace(',',''))\n",
    "\n",
    "idx = pb_ps[2].select_one('.pbr').get_text().find('점')\n",
    "mile = pb_ps[2].select_one('.pbr').get_text()[:idx]\n",
    "mile = int(mile.replace(',',''))\n",
    "\n",
    "print(lp, sp, mile)"
   ]
  },
  {
   "source": [
    "#### 첫번째 페이지"
   ],
   "cell_type": "markdown",
   "metadata": {}
  },
  {
   "cell_type": "code",
   "execution_count": 13,
   "metadata": {},
   "outputs": [],
   "source": [
    "title_list = []; info_list = []; pb_list = []\n",
    "lis = soup.select('.sub_book_list')\n",
    "for li in lis:\n",
    "    book_url = li.find('a').attrs['href']\n",
    "    with urllib.request.urlopen(base_url+book_url) as response:\n",
    "        html = response.read()\n",
    "        book_soup = BeautifulSoup(html, 'html.parser')\n",
    "    info = book_soup.select_one('.store_product_info_box')\n",
    "    title = info.find('h3').string\n",
    "    title_list.append(title)\n",
    "\n",
    "    book_lis = info.find_all('li')\n",
    "    book_dict = {}\n",
    "    for book_li in book_lis:\n",
    "        idx = book_li.find('strong').get_text().find(':')\n",
    "        key = book_li.find('strong').get_text()[:idx-1]\n",
    "        value = book_li.find('span').get_text()\n",
    "        book_dict.update([[key, value]])\n",
    "    info_list.append(book_dict)\n",
    "\n",
    "    pb_ps = book_soup.select_one('.payment_box').find_all('p')\n",
    "    pb_dict = {}\n",
    "    for pb in pb_ps:\n",
    "        idx = pb.select_one('.pbl').get_text().find(':')\n",
    "        key = pb.select_one('.pbl').get_text()[:idx-1]\n",
    "        value = pb.select_one('.pbr').get_text()\n",
    "        pb_dict.update([[key, value]])\n",
    "    pb_list.append(pb_dict)"
   ]
  },
  {
   "cell_type": "code",
   "execution_count": 14,
   "metadata": {},
   "outputs": [
    {
     "output_type": "stream",
     "name": "stdout",
     "text": [
      "['포르잔 C++ 에센셜', 'IT CookBook, 액세스 2019로 배우는 데이터베이스 기초와 실습', '포르잔 C++ 바이블', '딥러닝을 위한 선형대수학', 'IT CookBook, 오라클로 배우는 데이터베이스 개론과 실습(2판)', '대학을 버려야 대학이 산다', 'IT CookBook, 따라 하면서 배우는 사물인터넷', 'R로 하는 다변량 데이터 분석 : 이론부터 실무 활용까지', '창의적 공학설계(3판)', '공학 핵심수학(2판)  : 기초부터 심화까지 핵심만 쏙쏙', '응용이 보이는 선형대수학 : 파이썬과 함께하는 선형대수학 이론과 응용', 'IT CookBook, 초연결 사회의 데이터통신과 네트워킹', 'IT CookBook, 쉽게 배우는 MFC 윈도우 프로그래밍', 'IT CookBook, 인공지능 시대를 위한 컴퓨터 과학 개론', 'IT CookBook, 코틀린을 활용한 안드로이드 프로그래밍', 'IT CookBook, 처음 만나는 신재생에너지', '프리드버그 선형대수학', 'IT CookBook, CentOS 리눅스', 'Microeconomics, 6th Edition, Asia Edition', '누구나 파이썬 통계분석']\n"
     ]
    }
   ],
   "source": [
    "print(title_list)"
   ]
  },
  {
   "cell_type": "code",
   "execution_count": 15,
   "metadata": {},
   "outputs": [
    {
     "output_type": "execute_result",
     "data": {
      "text/plain": [
       "[{'저자': 'Behrouz A. Forouzan , Richard F. Gilberg ',\n",
       "  '번역': '윤인성 ',\n",
       "  '출간': '2020-11-10',\n",
       "  '페이지': '756 쪽',\n",
       "  'ISBN': '9791156645061',\n",
       "  '물류코드': '4506'},\n",
       " {'저자': '김지연 ',\n",
       "  '출간': '2020-09-28',\n",
       "  '페이지': '536 쪽',\n",
       "  'ISBN': '9791156645054',\n",
       "  '물류코드': '4505',\n",
       "  '구판정보': '이 도서는 <IT CookBook, 데이터베이스 기초와 실습 : 액세스 2013>의 개정판입니다. 구판 정보 보기'},\n",
       " {'저자': 'Behrouz A. Forouzan , Richard F. Gilberg ',\n",
       "  '번역': '윤인성 ',\n",
       "  '출간': '2020-08-31',\n",
       "  '페이지': '1192 쪽',\n",
       "  'ISBN': '9791156645030',\n",
       "  '물류코드': '4503'},\n",
       " {'저자': 'Gilbert Strang ',\n",
       "  '번역': '부산대학교 산업수학센터(FFMIMC) ',\n",
       "  '출간': '2020-08-05',\n",
       "  '페이지': '560 쪽',\n",
       "  'ISBN': '9791156644972',\n",
       "  '물류코드': '4497'},\n",
       " {'저자': '박우창 , 남송휘 , 이현룡 ',\n",
       "  '출간': '2020-07-30',\n",
       "  '페이지': '600 쪽',\n",
       "  'ISBN': '9791156645023',\n",
       "  '물류코드': '4502',\n",
       "  '구판정보': '이 도서는 <IT CookBook, 오라클로 배우는 데이터베이스 개론과 실습>의 개정판입니다. 구판 정보 보기'},\n",
       " {'저자': '조동성 외 인천대학교 가족 178명 ',\n",
       "  '출간': '2020-07-25',\n",
       "  '페이지': '216 쪽',\n",
       "  'ISBN': '9791156645016',\n",
       "  '물류코드': '4501'},\n",
       " {'저자': '양재삼 ',\n",
       "  '출간': '2020-07-23',\n",
       "  '페이지': '448 쪽',\n",
       "  'ISBN': '9791156644941',\n",
       "  '물류코드': '4494'},\n",
       " {'저자': '카와하시 잇코 , 이와마 노리카즈 , 스즈키 마사유키 ',\n",
       "  '번역': '권기태 ',\n",
       "  '출간': '2020-07-10',\n",
       "  '페이지': '544 쪽',\n",
       "  'ISBN': '9791156644989',\n",
       "  '물류코드': '4498'},\n",
       " {'저자': '김은경 ',\n",
       "  '출간': '2020-07-10',\n",
       "  '페이지': '408 쪽',\n",
       "  'ISBN': '9791156644934',\n",
       "  '물류코드': '4493',\n",
       "  '구판정보': '이 도서는 <창의적 공학설계(개정판)>의 개정판입니다. 구판 정보 보기'},\n",
       " {'저자': '함남우 ',\n",
       "  '출간': '2020-07-06',\n",
       "  '페이지': '484 쪽',\n",
       "  'ISBN': '9791156644996',\n",
       "  '물류코드': '4499',\n",
       "  '구판정보': '이 도서는 <공학 핵심수학 : Core Mathematics for Engineering>의 개정판입니다. 구판 정보 보기'},\n",
       " {'저자': '이건명 ',\n",
       "  '출간': '2020-07-06',\n",
       "  '페이지': '592 쪽',\n",
       "  'ISBN': '9791156645009',\n",
       "  '물류코드': '4500'},\n",
       " {'저자': '강문식 ',\n",
       "  '출간': '2020-06-30',\n",
       "  '페이지': '504 쪽',\n",
       "  'ISBN': '9791156644927',\n",
       "  '물류코드': '4492',\n",
       "  '구판정보': '이 도서는 <IT CookBook, New 데이터통신과 네트워킹 : 차세대 통신을 위한 밑그림>의 개정판입니다. 구판 정보 보기'},\n",
       " {'저자': '김선우 , 신화선 ',\n",
       "  '출간': '2020-06-20',\n",
       "  '페이지': '772 쪽',\n",
       "  'ISBN': '9791156644903',\n",
       "  '물류코드': '4490'},\n",
       " {'저자': '정기철 ',\n",
       "  '출간': '2020-06-19',\n",
       "  '페이지': '520 쪽',\n",
       "  'ISBN': '9791156644958',\n",
       "  '물류코드': '4495'},\n",
       " {'저자': '우재남 , 유혜림 ',\n",
       "  '출간': '2020-06-19',\n",
       "  '페이지': '564 쪽',\n",
       "  'ISBN': '9791156644965',\n",
       "  '물류코드': '4496'},\n",
       " {'저자': '김지홍 ',\n",
       "  '출간': '2020-06-10',\n",
       "  '페이지': '388 쪽',\n",
       "  'ISBN': '9791156644859',\n",
       "  '물류코드': '4485'},\n",
       " {'저자': '스티븐 H. 프리드버그 , 아놀드 J. 인셀 , 로렌스 E. 스펜스 ',\n",
       "  '번역': '한빛수학교재연구소 , 심형보(감수) ',\n",
       "  '출간': '2020-06-05',\n",
       "  '페이지': '616 쪽',\n",
       "  'ISBN': '9791156644910',\n",
       "  '물류코드': '4491'},\n",
       " {'저자': '이종원 ',\n",
       "  '출간': '2020-05-30',\n",
       "  '페이지': '792 쪽',\n",
       "  'ISBN': '9791156644897',\n",
       "  '물류코드': '4489'},\n",
       " {'저자': 'David Besanko , Ronald Braeutigam ',\n",
       "  '출간': '2020-05-01',\n",
       "  '페이지': '856 쪽',\n",
       "  'ISBN': '9781119666226',\n",
       "  '물류코드': '30000'},\n",
       " {'저자': '타니아이 히로키 ',\n",
       "  '번역': '권기태 ',\n",
       "  '출간': '2020-04-06',\n",
       "  '페이지': '384 쪽',\n",
       "  'ISBN': '9791156644880',\n",
       "  '물류코드': '4488'}]"
      ]
     },
     "metadata": {},
     "execution_count": 15
    }
   ],
   "source": [
    "info_list"
   ]
  },
  {
   "cell_type": "code",
   "execution_count": 16,
   "metadata": {},
   "outputs": [
    {
     "output_type": "execute_result",
     "data": {
      "text/plain": [
       "[{'정가': '32,000원', '판매가': '32,000원(0% off)', '마일리지': '960점 (3%)'},\n",
       " {'정가': '28,000원', '판매가': '28,000원(0% off)', '마일리지': '840점 (3%)'},\n",
       " {'정가': '45,000원', '판매가': '45,000원(0% off)', '마일리지': '1,350점 (3%)'},\n",
       " {'정가': '38,000원', '판매가': '38,000원(0% off)', '마일리지': '1,140점 (3%)'},\n",
       " {'정가': '29,000원', '판매가': '29,000원(0% off)', '마일리지': '870점 (3%)'},\n",
       " {'정가': '18,000원', '판매가': '18,000원(0% off)', '마일리지': '540점 (3%)'},\n",
       " {'정가': '28,000원', '판매가': '28,000원(0% off)', '마일리지': '840점 (3%)'},\n",
       " {'정가': '32,000원', '판매가': '32,000원(0% off)', '마일리지': '960점 (3%)'},\n",
       " {'정가': '23,000원', '판매가': '23,000원(0% off)', '마일리지': '690점 (3%)'},\n",
       " {'정가': '23,000원', '판매가': '23,000원(0% off)', '마일리지': '690점 (3%)'},\n",
       " {'정가': '31,000원', '판매가': '31,000원(0% off)', '마일리지': '930점 (3%)'},\n",
       " {'정가': '29,000원', '판매가': '29,000원(0% off)', '마일리지': '870점 (3%)'},\n",
       " {'정가': '30,000원', '판매가': '30,000원(0% off)', '마일리지': '900점 (3%)'},\n",
       " {'정가': '27,000원', '판매가': '27,000원(0% off)', '마일리지': '810점 (3%)'},\n",
       " {'정가': '34,000원', '판매가': '34,000원(0% off)', '마일리지': '1,020점 (3%)'},\n",
       " {'정가': '25,000원', '판매가': '25,000원(0% off)', '마일리지': '750점 (3%)'},\n",
       " {'정가': '35,000원', '판매가': '35,000원(0% off)', '마일리지': '1,050점 (3%)'},\n",
       " {'정가': '32,000원', '판매가': '32,000원(0% off)', '마일리지': '960점 (3%)'},\n",
       " {'정가': '49,000원', '판매가': '49,000원(0% off)', '마일리지': '1,470점 (3%)'},\n",
       " {'정가': '26,000원', '판매가': '26,000원(0% off)', '마일리지': '780점 (3%)'}]"
      ]
     },
     "metadata": {},
     "execution_count": 16
    }
   ],
   "source": [
    "pb_list"
   ]
  },
  {
   "cell_type": "code",
   "execution_count": 19,
   "metadata": {},
   "outputs": [],
   "source": [
    "title_list = []; author_list = []; translator_list = []\n",
    "date_list = []; page_list = []; isbn_list = []\n",
    "list_price_list = []; sales_price_list = []; mileage_list = []\n",
    "\n",
    "for li in lis:\n",
    "    book_url = li.find('a').attrs['href']\n",
    "    with urllib.request.urlopen(base_url+book_url) as response:\n",
    "        html = response.read()\n",
    "        book_soup = BeautifulSoup(html, 'html.parser')\n",
    "    info = book_soup.select_one('.store_product_info_box')\n",
    "    title = info.find('h3').string\n",
    "    title_list.append(title)\n",
    "\n",
    "    book_lis = info.find_all('li')\n",
    "    al = book_lis[0].find('span').get_text().split(',')\n",
    "    authors = ','.join(list(map(lambda s: s.rstrip(), al)))\n",
    "    author_list.append(authors)\n",
    "\n",
    "    tr_flag = False\n",
    "    for bli in book_lis[1:]:\n",
    "        key = bli.find('strong').get_text()\n",
    "        if key.find('출간') >= 0:\n",
    "            date = bli.find('span').get_text()\n",
    "            date_list.append(date)\n",
    "            continue\n",
    "        elif key.find('페이지') >= 0:\n",
    "            page = int(bli.find('span').get_text()[:-2])\n",
    "            page_list.append(page)\n",
    "            continue\n",
    "        elif key.find('ISBN') >= 0:\n",
    "            isbn = bli.find('span').get_text()\n",
    "            isbn_list.append(isbn)\n",
    "            continue\n",
    "        elif key.find('번역') >= 0:\n",
    "            tl = bli.find('span').get_text().split(',')\n",
    "            translators = ','.join(list(map(lambda s: s.rstrip(), tl)))\n",
    "            translator_list.append(translators)\n",
    "            tr_flag = True\n",
    "    \n",
    "    if not tr_flag:\n",
    "        translator_list.append(' ')\n",
    "\n",
    "    pb_ps = book_soup.select_one('.payment_box').find_all('p')\n",
    "    idx = pb_ps[0].select_one('.pbr').get_text().find('원')\n",
    "    lp = pb_ps[0].select_one('.pbr').get_text()[:idx]\n",
    "    lp = int(lp.replace(',',''))\n",
    "    list_price_list.append(lp)\n",
    "\n",
    "    idx = pb_ps[1].select_one('.pbr').get_text().find('원')\n",
    "    sp = pb_ps[1].select_one('.pbr').get_text()[:idx]\n",
    "    sp = int(sp.replace(',',''))\n",
    "    sales_price_list.append(sp)\n",
    "\n",
    "    idx = pb_ps[2].select_one('.pbr').get_text().find('점')\n",
    "    mile = pb_ps[2].select_one('.pbr').get_text()[:idx]\n",
    "    mile = int(mile.replace(',',''))\n",
    "    mileage_list.append(mile)"
   ]
  },
  {
   "cell_type": "code",
   "execution_count": 20,
   "metadata": {},
   "outputs": [
    {
     "output_type": "execute_result",
     "data": {
      "text/plain": [
       "(20, 20, 20, 20, 20, 20, 20, 20, 20)"
      ]
     },
     "metadata": {},
     "execution_count": 20
    }
   ],
   "source": [
    "len(title_list), len(author_list), len(translator_list), len(date_list), len(page_list), len(isbn_list), len(list_price_list), len(sales_price_list), len(mileage_list)"
   ]
  },
  {
   "cell_type": "code",
   "execution_count": 21,
   "metadata": {},
   "outputs": [
    {
     "output_type": "execute_result",
     "data": {
      "text/plain": [
       "                                           제목  \\\n",
       "0                                 포르잔 C++ 에센셜   \n",
       "1    IT CookBook, 액세스 2019로 배우는 데이터베이스 기초와 실습   \n",
       "2                                 포르잔 C++ 바이블   \n",
       "3                               딥러닝을 위한 선형대수학   \n",
       "4     IT CookBook, 오라클로 배우는 데이터베이스 개론과 실습(2판)   \n",
       "5                              대학을 버려야 대학이 산다   \n",
       "6               IT CookBook, 따라 하면서 배우는 사물인터넷   \n",
       "7             R로 하는 다변량 데이터 분석 : 이론부터 실무 활용까지   \n",
       "8                                창의적 공학설계(3판)   \n",
       "9             공학 핵심수학(2판)  : 기초부터 심화까지 핵심만 쏙쏙   \n",
       "10     응용이 보이는 선형대수학 : 파이썬과 함께하는 선형대수학 이론과 응용   \n",
       "11           IT CookBook, 초연결 사회의 데이터통신과 네트워킹   \n",
       "12          IT CookBook, 쉽게 배우는 MFC 윈도우 프로그래밍   \n",
       "13         IT CookBook, 인공지능 시대를 위한 컴퓨터 과학 개론   \n",
       "14          IT CookBook, 코틀린을 활용한 안드로이드 프로그래밍   \n",
       "15                 IT CookBook, 처음 만나는 신재생에너지   \n",
       "16                                프리드버그 선형대수학   \n",
       "17                    IT CookBook, CentOS 리눅스   \n",
       "18  Microeconomics, 6th Edition, Asia Edition   \n",
       "19                               누구나 파이썬 통계분석   \n",
       "\n",
       "                                         저자                    번역         출간일  \\\n",
       "0   Behrouz A. Forouzan, Richard F. Gilberg                   윤인성  2020-11-10   \n",
       "1                                       김지연                        2020-09-28   \n",
       "2   Behrouz A. Forouzan, Richard F. Gilberg                   윤인성  2020-08-31   \n",
       "3                            Gilbert Strang  부산대학교 산업수학센터(FFMIMC)  2020-08-05   \n",
       "4                             박우창, 남송휘, 이현룡                        2020-07-30   \n",
       "5                       조동성 외 인천대학교 가족 178명                        2020-07-25   \n",
       "6                                       양재삼                        2020-07-23   \n",
       "7               카와하시 잇코, 이와마 노리카즈, 스즈키 마사유키                   권기태  2020-07-10   \n",
       "8                                       김은경                        2020-07-10   \n",
       "9                                       함남우                        2020-07-06   \n",
       "10                                      이건명                        2020-07-06   \n",
       "11                                      강문식                        2020-06-30   \n",
       "12                                 김선우, 신화선                        2020-06-20   \n",
       "13                                      정기철                        2020-06-19   \n",
       "14                                 우재남, 유혜림                        2020-06-19   \n",
       "15                                      김지홍                        2020-06-10   \n",
       "16      스티븐 H. 프리드버그, 아놀드 J. 인셀, 로렌스 E. 스펜스    한빛수학교재연구소, 심형보(감수)  2020-06-05   \n",
       "17                                      이종원                        2020-05-30   \n",
       "18         David Besanko, Ronald Braeutigam                        2020-05-01   \n",
       "19                                 타니아이 히로키                   권기태  2020-04-06   \n",
       "\n",
       "     페이지           ISBN     정가     판가  마일리지  \n",
       "0    756  9791156645061  32000  32000   960  \n",
       "1    536  9791156645054  28000  28000   840  \n",
       "2   1192  9791156645030  45000  45000  1350  \n",
       "3    560  9791156644972  38000  38000  1140  \n",
       "4    600  9791156645023  29000  29000   870  \n",
       "5    216  9791156645016  18000  18000   540  \n",
       "6    448  9791156644941  28000  28000   840  \n",
       "7    544  9791156644989  32000  32000   960  \n",
       "8    408  9791156644934  23000  23000   690  \n",
       "9    484  9791156644996  23000  23000   690  \n",
       "10   592  9791156645009  31000  31000   930  \n",
       "11   504  9791156644927  29000  29000   870  \n",
       "12   772  9791156644903  30000  30000   900  \n",
       "13   520  9791156644958  27000  27000   810  \n",
       "14   564  9791156644965  34000  34000  1020  \n",
       "15   388  9791156644859  25000  25000   750  \n",
       "16   616  9791156644910  35000  35000  1050  \n",
       "17   792  9791156644897  32000  32000   960  \n",
       "18   856  9781119666226  49000  49000  1470  \n",
       "19   384  9791156644880  26000  26000   780  "
      ],
      "text/html": "<div>\n<style scoped>\n    .dataframe tbody tr th:only-of-type {\n        vertical-align: middle;\n    }\n\n    .dataframe tbody tr th {\n        vertical-align: top;\n    }\n\n    .dataframe thead th {\n        text-align: right;\n    }\n</style>\n<table border=\"1\" class=\"dataframe\">\n  <thead>\n    <tr style=\"text-align: right;\">\n      <th></th>\n      <th>제목</th>\n      <th>저자</th>\n      <th>번역</th>\n      <th>출간일</th>\n      <th>페이지</th>\n      <th>ISBN</th>\n      <th>정가</th>\n      <th>판가</th>\n      <th>마일리지</th>\n    </tr>\n  </thead>\n  <tbody>\n    <tr>\n      <th>0</th>\n      <td>포르잔 C++ 에센셜</td>\n      <td>Behrouz A. Forouzan, Richard F. Gilberg</td>\n      <td>윤인성</td>\n      <td>2020-11-10</td>\n      <td>756</td>\n      <td>9791156645061</td>\n      <td>32000</td>\n      <td>32000</td>\n      <td>960</td>\n    </tr>\n    <tr>\n      <th>1</th>\n      <td>IT CookBook, 액세스 2019로 배우는 데이터베이스 기초와 실습</td>\n      <td>김지연</td>\n      <td></td>\n      <td>2020-09-28</td>\n      <td>536</td>\n      <td>9791156645054</td>\n      <td>28000</td>\n      <td>28000</td>\n      <td>840</td>\n    </tr>\n    <tr>\n      <th>2</th>\n      <td>포르잔 C++ 바이블</td>\n      <td>Behrouz A. Forouzan, Richard F. Gilberg</td>\n      <td>윤인성</td>\n      <td>2020-08-31</td>\n      <td>1192</td>\n      <td>9791156645030</td>\n      <td>45000</td>\n      <td>45000</td>\n      <td>1350</td>\n    </tr>\n    <tr>\n      <th>3</th>\n      <td>딥러닝을 위한 선형대수학</td>\n      <td>Gilbert Strang</td>\n      <td>부산대학교 산업수학센터(FFMIMC)</td>\n      <td>2020-08-05</td>\n      <td>560</td>\n      <td>9791156644972</td>\n      <td>38000</td>\n      <td>38000</td>\n      <td>1140</td>\n    </tr>\n    <tr>\n      <th>4</th>\n      <td>IT CookBook, 오라클로 배우는 데이터베이스 개론과 실습(2판)</td>\n      <td>박우창, 남송휘, 이현룡</td>\n      <td></td>\n      <td>2020-07-30</td>\n      <td>600</td>\n      <td>9791156645023</td>\n      <td>29000</td>\n      <td>29000</td>\n      <td>870</td>\n    </tr>\n    <tr>\n      <th>5</th>\n      <td>대학을 버려야 대학이 산다</td>\n      <td>조동성 외 인천대학교 가족 178명</td>\n      <td></td>\n      <td>2020-07-25</td>\n      <td>216</td>\n      <td>9791156645016</td>\n      <td>18000</td>\n      <td>18000</td>\n      <td>540</td>\n    </tr>\n    <tr>\n      <th>6</th>\n      <td>IT CookBook, 따라 하면서 배우는 사물인터넷</td>\n      <td>양재삼</td>\n      <td></td>\n      <td>2020-07-23</td>\n      <td>448</td>\n      <td>9791156644941</td>\n      <td>28000</td>\n      <td>28000</td>\n      <td>840</td>\n    </tr>\n    <tr>\n      <th>7</th>\n      <td>R로 하는 다변량 데이터 분석 : 이론부터 실무 활용까지</td>\n      <td>카와하시 잇코, 이와마 노리카즈, 스즈키 마사유키</td>\n      <td>권기태</td>\n      <td>2020-07-10</td>\n      <td>544</td>\n      <td>9791156644989</td>\n      <td>32000</td>\n      <td>32000</td>\n      <td>960</td>\n    </tr>\n    <tr>\n      <th>8</th>\n      <td>창의적 공학설계(3판)</td>\n      <td>김은경</td>\n      <td></td>\n      <td>2020-07-10</td>\n      <td>408</td>\n      <td>9791156644934</td>\n      <td>23000</td>\n      <td>23000</td>\n      <td>690</td>\n    </tr>\n    <tr>\n      <th>9</th>\n      <td>공학 핵심수학(2판)  : 기초부터 심화까지 핵심만 쏙쏙</td>\n      <td>함남우</td>\n      <td></td>\n      <td>2020-07-06</td>\n      <td>484</td>\n      <td>9791156644996</td>\n      <td>23000</td>\n      <td>23000</td>\n      <td>690</td>\n    </tr>\n    <tr>\n      <th>10</th>\n      <td>응용이 보이는 선형대수학 : 파이썬과 함께하는 선형대수학 이론과 응용</td>\n      <td>이건명</td>\n      <td></td>\n      <td>2020-07-06</td>\n      <td>592</td>\n      <td>9791156645009</td>\n      <td>31000</td>\n      <td>31000</td>\n      <td>930</td>\n    </tr>\n    <tr>\n      <th>11</th>\n      <td>IT CookBook, 초연결 사회의 데이터통신과 네트워킹</td>\n      <td>강문식</td>\n      <td></td>\n      <td>2020-06-30</td>\n      <td>504</td>\n      <td>9791156644927</td>\n      <td>29000</td>\n      <td>29000</td>\n      <td>870</td>\n    </tr>\n    <tr>\n      <th>12</th>\n      <td>IT CookBook, 쉽게 배우는 MFC 윈도우 프로그래밍</td>\n      <td>김선우, 신화선</td>\n      <td></td>\n      <td>2020-06-20</td>\n      <td>772</td>\n      <td>9791156644903</td>\n      <td>30000</td>\n      <td>30000</td>\n      <td>900</td>\n    </tr>\n    <tr>\n      <th>13</th>\n      <td>IT CookBook, 인공지능 시대를 위한 컴퓨터 과학 개론</td>\n      <td>정기철</td>\n      <td></td>\n      <td>2020-06-19</td>\n      <td>520</td>\n      <td>9791156644958</td>\n      <td>27000</td>\n      <td>27000</td>\n      <td>810</td>\n    </tr>\n    <tr>\n      <th>14</th>\n      <td>IT CookBook, 코틀린을 활용한 안드로이드 프로그래밍</td>\n      <td>우재남, 유혜림</td>\n      <td></td>\n      <td>2020-06-19</td>\n      <td>564</td>\n      <td>9791156644965</td>\n      <td>34000</td>\n      <td>34000</td>\n      <td>1020</td>\n    </tr>\n    <tr>\n      <th>15</th>\n      <td>IT CookBook, 처음 만나는 신재생에너지</td>\n      <td>김지홍</td>\n      <td></td>\n      <td>2020-06-10</td>\n      <td>388</td>\n      <td>9791156644859</td>\n      <td>25000</td>\n      <td>25000</td>\n      <td>750</td>\n    </tr>\n    <tr>\n      <th>16</th>\n      <td>프리드버그 선형대수학</td>\n      <td>스티븐 H. 프리드버그, 아놀드 J. 인셀, 로렌스 E. 스펜스</td>\n      <td>한빛수학교재연구소, 심형보(감수)</td>\n      <td>2020-06-05</td>\n      <td>616</td>\n      <td>9791156644910</td>\n      <td>35000</td>\n      <td>35000</td>\n      <td>1050</td>\n    </tr>\n    <tr>\n      <th>17</th>\n      <td>IT CookBook, CentOS 리눅스</td>\n      <td>이종원</td>\n      <td></td>\n      <td>2020-05-30</td>\n      <td>792</td>\n      <td>9791156644897</td>\n      <td>32000</td>\n      <td>32000</td>\n      <td>960</td>\n    </tr>\n    <tr>\n      <th>18</th>\n      <td>Microeconomics, 6th Edition, Asia Edition</td>\n      <td>David Besanko, Ronald Braeutigam</td>\n      <td></td>\n      <td>2020-05-01</td>\n      <td>856</td>\n      <td>9781119666226</td>\n      <td>49000</td>\n      <td>49000</td>\n      <td>1470</td>\n    </tr>\n    <tr>\n      <th>19</th>\n      <td>누구나 파이썬 통계분석</td>\n      <td>타니아이 히로키</td>\n      <td>권기태</td>\n      <td>2020-04-06</td>\n      <td>384</td>\n      <td>9791156644880</td>\n      <td>26000</td>\n      <td>26000</td>\n      <td>780</td>\n    </tr>\n  </tbody>\n</table>\n</div>"
     },
     "metadata": {},
     "execution_count": 21
    }
   ],
   "source": [
    "new_book = pd.DataFrame({\n",
    "            '제목': title_list,\n",
    "            '저자': author_list,\n",
    "            '번역': translator_list,\n",
    "            '출간일': date_list,\n",
    "            '페이지': page_list,\n",
    "            'ISBN': isbn_list,\n",
    "            '정가': list_price_list,\n",
    "            '판가': sales_price_list,\n",
    "            '마일리지': mileage_list\n",
    "})\n",
    "new_book"
   ]
  },
  {
   "cell_type": "code",
   "execution_count": null,
   "metadata": {},
   "outputs": [],
   "source": []
  },
  {
   "source": [
    "### 모든 페이지에 대해서 처리"
   ],
   "cell_type": "markdown",
   "metadata": {}
  },
  {
   "cell_type": "code",
   "execution_count": 22,
   "metadata": {},
   "outputs": [],
   "source": [
    "from tqdm import tqdm_notebook"
   ]
  },
  {
   "cell_type": "code",
   "execution_count": 23,
   "metadata": {},
   "outputs": [],
   "source": [
    "base_url = 'https://www.hanbit.co.kr'\n",
    "sub_url = '/academy/books/new_book_list.html'\n",
    "title_list = []; author_list = []; translator_list = []\n",
    "date_list = []; page_list = []; isbn_list = []\n",
    "list_price_list = []; sales_price_list = []; mileage_list = []\n",
    "total_page = 16"
   ]
  },
  {
   "cell_type": "code",
   "execution_count": 24,
   "metadata": {},
   "outputs": [
    {
     "output_type": "display_data",
     "data": {
      "text/plain": "HBox(children=(FloatProgress(value=0.0, max=16.0), HTML(value='')))",
      "application/vnd.jupyter.widget-view+json": {
       "version_major": 2,
       "version_minor": 0,
       "model_id": "dd7589ce44bd4ad69f1a77afc5be4ec0"
      }
     },
     "metadata": {}
    },
    {
     "output_type": "stream",
     "name": "stdout",
     "text": [
      "\n"
     ]
    }
   ],
   "source": [
    "for page in tqdm_notebook(range(total_page)):\n",
    "    page_url = f'?page={page+1}&cate_cd=&srt=&searchKey=&keyWord='\n",
    "    url = base_url + sub_url + page_url\n",
    "    with urllib.request.urlopen(url) as response:\n",
    "        html = response.read()\n",
    "        soup = BeautifulSoup(html, 'html.parser')\n",
    "\n",
    "    lis = soup.select('.sub_book_list')\n",
    "    for li in lis:\n",
    "        book_url = li.find('a').attrs['href']\n",
    "        with urllib.request.urlopen(base_url+book_url) as response:\n",
    "            html = response.read()\n",
    "            book_soup = BeautifulSoup(html, 'html.parser')\n",
    "        info = book_soup.select_one('.store_product_info_box')\n",
    "        title = info.find('h3').string\n",
    "        title_list.append(title)\n",
    "\n",
    "        book_lis = info.find_all('li')\n",
    "        al = book_lis[0].find('span').get_text().split(',')\n",
    "        authors = ','.join(list(map(lambda s: s.rstrip(), al)))\n",
    "        author_list.append(authors)\n",
    "\n",
    "        tr_flag = False\n",
    "        for bli in book_lis[1:]:\n",
    "            key = bli.find('strong').get_text()\n",
    "            if key.find('출간') >= 0:\n",
    "                date = bli.find('span').get_text()\n",
    "                date_list.append(date)\n",
    "                continue\n",
    "            elif key.find('페이지') >= 0:\n",
    "                page = int(bli.find('span').get_text()[:-2])\n",
    "                page_list.append(page)\n",
    "                continue\n",
    "            elif key.find('ISBN') >= 0:\n",
    "                isbn = bli.find('span').get_text()\n",
    "                isbn_list.append(isbn)\n",
    "                continue\n",
    "            elif key.find('번역') >= 0:\n",
    "                tl = bli.find('span').get_text().split(',')\n",
    "                translators = ','.join(list(map(lambda s: s.rstrip(), tl)))\n",
    "                translator_list.append(translators)\n",
    "                tr_flag = True\n",
    "        \n",
    "        if not tr_flag:\n",
    "            translator_list.append(' ')\n",
    "\n",
    "        pb_ps = book_soup.select_one('.payment_box').find_all('p')\n",
    "        idx = pb_ps[0].select_one('.pbr').get_text().find('원')\n",
    "        lp = pb_ps[0].select_one('.pbr').get_text()[:idx]\n",
    "        lp = int(lp.replace(',',''))\n",
    "        list_price_list.append(lp)\n",
    "\n",
    "        idx = pb_ps[1].select_one('.pbr').get_text().find('원')\n",
    "        sp = pb_ps[1].select_one('.pbr').get_text()[:idx]\n",
    "        sp = int(sp.replace(',',''))\n",
    "        sales_price_list.append(sp)\n",
    "\n",
    "        idx = pb_ps[2].select_one('.pbr').get_text().find('점')\n",
    "        mile = pb_ps[2].select_one('.pbr').get_text()[:idx]\n",
    "        mile = int(mile.replace(',',''))\n",
    "        mileage_list.append(mile)"
   ]
  },
  {
   "cell_type": "code",
   "execution_count": 25,
   "metadata": {},
   "outputs": [
    {
     "output_type": "execute_result",
     "data": {
      "text/plain": [
       "                                                    제목                    저자  \\\n",
       "296                      문제해결력을 키우는 이공계 글쓰기 : 발표와 토론까지                   한성우   \n",
       "297                진로개발과 직업세계 : 대학생과 청년층을 위한 진로, 취업지침서    서일수, 김도균, 김지혜, 이정배   \n",
       "298                                 Essential Calculus         James Stewart   \n",
       "299  IT CookBook, 디지털 통신 시스템 : Digital Communicatio...              정호영, 임승각   \n",
       "300     IT CookBook, 운영체제론 : Operating Systems, 3rd Ed  하비 디텔, 폴 디텔, 데이빗 쇼픈스   \n",
       "\n",
       "      번역         출간일  페이지           ISBN     정가     판가  마일리지  \n",
       "296       2013-02-28  396  9788998756024  18000  18000   540  \n",
       "297       2013-02-28  392  9788998756048  20000  20000   600  \n",
       "298       2012-07-08  960  9781133492566  36000  36000  1080  \n",
       "299       2011-01-31  576  9788979147988  25000  25000   750  \n",
       "300  송경희  2009-09-04  860  9788979146844  32000  32000   960  "
      ],
      "text/html": "<div>\n<style scoped>\n    .dataframe tbody tr th:only-of-type {\n        vertical-align: middle;\n    }\n\n    .dataframe tbody tr th {\n        vertical-align: top;\n    }\n\n    .dataframe thead th {\n        text-align: right;\n    }\n</style>\n<table border=\"1\" class=\"dataframe\">\n  <thead>\n    <tr style=\"text-align: right;\">\n      <th></th>\n      <th>제목</th>\n      <th>저자</th>\n      <th>번역</th>\n      <th>출간일</th>\n      <th>페이지</th>\n      <th>ISBN</th>\n      <th>정가</th>\n      <th>판가</th>\n      <th>마일리지</th>\n    </tr>\n  </thead>\n  <tbody>\n    <tr>\n      <th>296</th>\n      <td>문제해결력을 키우는 이공계 글쓰기 : 발표와 토론까지</td>\n      <td>한성우</td>\n      <td></td>\n      <td>2013-02-28</td>\n      <td>396</td>\n      <td>9788998756024</td>\n      <td>18000</td>\n      <td>18000</td>\n      <td>540</td>\n    </tr>\n    <tr>\n      <th>297</th>\n      <td>진로개발과 직업세계 : 대학생과 청년층을 위한 진로, 취업지침서</td>\n      <td>서일수, 김도균, 김지혜, 이정배</td>\n      <td></td>\n      <td>2013-02-28</td>\n      <td>392</td>\n      <td>9788998756048</td>\n      <td>20000</td>\n      <td>20000</td>\n      <td>600</td>\n    </tr>\n    <tr>\n      <th>298</th>\n      <td>Essential Calculus</td>\n      <td>James Stewart</td>\n      <td></td>\n      <td>2012-07-08</td>\n      <td>960</td>\n      <td>9781133492566</td>\n      <td>36000</td>\n      <td>36000</td>\n      <td>1080</td>\n    </tr>\n    <tr>\n      <th>299</th>\n      <td>IT CookBook, 디지털 통신 시스템 : Digital Communicatio...</td>\n      <td>정호영, 임승각</td>\n      <td></td>\n      <td>2011-01-31</td>\n      <td>576</td>\n      <td>9788979147988</td>\n      <td>25000</td>\n      <td>25000</td>\n      <td>750</td>\n    </tr>\n    <tr>\n      <th>300</th>\n      <td>IT CookBook, 운영체제론 : Operating Systems, 3rd Ed</td>\n      <td>하비 디텔, 폴 디텔, 데이빗 쇼픈스</td>\n      <td>송경희</td>\n      <td>2009-09-04</td>\n      <td>860</td>\n      <td>9788979146844</td>\n      <td>32000</td>\n      <td>32000</td>\n      <td>960</td>\n    </tr>\n  </tbody>\n</table>\n</div>"
     },
     "metadata": {},
     "execution_count": 25
    }
   ],
   "source": [
    "new_book = pd.DataFrame({\n",
    "            '제목': title_list,\n",
    "            '저자': author_list,\n",
    "            '번역': translator_list,\n",
    "            '출간일': date_list,\n",
    "            '페이지': page_list,\n",
    "            'ISBN': isbn_list,\n",
    "            '정가': list_price_list,\n",
    "            '판가': sales_price_list,\n",
    "            '마일리지': mileage_list\n",
    "})\n",
    "new_book.tail()"
   ]
  },
  {
   "cell_type": "code",
   "execution_count": 26,
   "metadata": {},
   "outputs": [],
   "source": [
    "new_book.to_csv('New_Book_List.csv', sep=',', encoding='utf8')"
   ]
  },
  {
   "cell_type": "code",
   "execution_count": null,
   "metadata": {},
   "outputs": [],
   "source": []
  }
 ]
}