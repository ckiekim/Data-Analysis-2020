{
 "metadata": {
  "language_info": {
   "codemirror_mode": {
    "name": "ipython",
    "version": 3
   },
   "file_extension": ".py",
   "mimetype": "text/x-python",
   "name": "python",
   "nbconvert_exporter": "python",
   "pygments_lexer": "ipython3",
   "version": "3.8.3-final"
  },
  "orig_nbformat": 2,
  "kernelspec": {
   "name": "python3",
   "display_name": "Python 3"
  }
 },
 "nbformat": 4,
 "nbformat_minor": 2,
 "cells": [
  {
   "source": [
    "# Melon 주간 Top 100 구하기"
   ],
   "cell_type": "markdown",
   "metadata": {}
  },
  {
   "cell_type": "code",
   "execution_count": 2,
   "metadata": {},
   "outputs": [],
   "source": [
    "from bs4 import BeautifulSoup \n",
    "import urllib.request\n",
    "import pandas as pd "
   ]
  },
  {
   "cell_type": "code",
   "execution_count": 4,
   "metadata": {},
   "outputs": [],
   "source": [
    "import requests\n",
    "url = 'https://www.melon.com/chart/week/index.htm'\n",
    "header = {'User-Agent': 'Mozilla/5.0 (Windows NT 6.3; Trident/7.0; rv:11.0) like Gecko'}\n",
    "req = requests.get(url, headers = header) \n",
    "html = req.text"
   ]
  },
  {
   "cell_type": "code",
   "execution_count": 5,
   "metadata": {},
   "outputs": [],
   "source": [
    "soup = BeautifulSoup(html, 'html.parser')"
   ]
  },
  {
   "source": [
    "### 시작일 ~ 끝날"
   ],
   "cell_type": "markdown",
   "metadata": {}
  },
  {
   "cell_type": "code",
   "execution_count": 6,
   "metadata": {},
   "outputs": [
    {
     "output_type": "execute_result",
     "data": {
      "text/plain": [
       "'\\r\\n\\t\\t\\t\\t\\t\\t\\t2020.11.09 ~ 2020.11.15\\r\\n\\t\\t\\t\\t\\t\\t'"
      ]
     },
     "metadata": {},
     "execution_count": 6
    }
   ],
   "source": [
    "soup.select_one('.yyyymmdd').get_text()"
   ]
  },
  {
   "cell_type": "code",
   "execution_count": 7,
   "metadata": {},
   "outputs": [
    {
     "output_type": "execute_result",
     "data": {
      "text/plain": [
       "'2020.11.09 ~ 2020.11.15'"
      ]
     },
     "metadata": {},
     "execution_count": 7
    }
   ],
   "source": [
    "date = soup.select_one('.yyyymmdd').get_text().strip()\n",
    "date"
   ]
  },
  {
   "cell_type": "code",
   "execution_count": 8,
   "metadata": {},
   "outputs": [
    {
     "output_type": "execute_result",
     "data": {
      "text/plain": [
       "('2020.11.09', '2020.11.15')"
      ]
     },
     "metadata": {},
     "execution_count": 8
    }
   ],
   "source": [
    "start_day = date[:10]\n",
    "end_day = date[13:]\n",
    "start_day, end_day"
   ]
  },
  {
   "source": [
    "### 곡 리스트 찾기"
   ],
   "cell_type": "markdown",
   "metadata": {}
  },
  {
   "cell_type": "code",
   "execution_count": 10,
   "metadata": {},
   "outputs": [
    {
     "output_type": "execute_result",
     "data": {
      "text/plain": [
       "100"
      ]
     },
     "metadata": {},
     "execution_count": 10
    }
   ],
   "source": [
    "service_list = soup.select_one('.service_list_song')\n",
    "tbody = service_list.find('tbody')\n",
    "trs = tbody.find_all('tr')\n",
    "len(trs)"
   ]
  },
  {
   "cell_type": "code",
   "execution_count": 16,
   "metadata": {},
   "outputs": [
    {
     "output_type": "execute_result",
     "data": {
      "text/plain": [
       "1"
      ]
     },
     "metadata": {},
     "execution_count": 16
    }
   ],
   "source": [
    "rank = int(trs[0].select_one('.rank').string)\n",
    "rank"
   ]
  },
  {
   "cell_type": "code",
   "execution_count": 34,
   "metadata": {},
   "outputs": [
    {
     "output_type": "stream",
     "name": "stdout",
     "text": [
      "0\n1\n-1\n-100\n"
     ]
    }
   ],
   "source": [
    "for i in [0, 1, 2, 19]:\n",
    "    entry = trs[i].select_one('.rank_wrap')\n",
    "    spans = entry.find_all('span')\n",
    "    diff = -100\n",
    "    if len(spans) == 3:\n",
    "        diff = int(spans[2].string)\n",
    "        if diff != 0:\n",
    "            sign = spans[2].attrs['class']\n",
    "            if sign[0] == 'down':\n",
    "                diff *= -1\n",
    "    print(diff)"
   ]
  },
  {
   "cell_type": "code",
   "execution_count": 39,
   "metadata": {},
   "outputs": [
    {
     "output_type": "execute_result",
     "data": {
      "text/plain": [
       "('Dynamite', '방탄소년단', 'Dynamite (DayTime Version)')"
      ]
     },
     "metadata": {},
     "execution_count": 39
    }
   ],
   "source": [
    "info = trs[0].select_one('.ellipsis.rank01')\n",
    "title = info.find('a').string\n",
    "info = trs[0].select_one('.ellipsis.rank02')\n",
    "singer = info.find('a').string\n",
    "info = trs[0].select_one('.ellipsis.rank03')\n",
    "album = info.find('a').string\n",
    "title, singer, album"
   ]
  },
  {
   "cell_type": "code",
   "execution_count": 41,
   "metadata": {},
   "outputs": [
    {
     "output_type": "execute_result",
     "data": {
      "text/plain": [
       "('Dynamite', '방탄소년단', 'Dynamite (DayTime Version)')"
      ]
     },
     "metadata": {},
     "execution_count": 41
    }
   ],
   "source": [
    "info = trs[0].select('.ellipsis')\n",
    "title = info[0].find('a').string\n",
    "singer = info[1].find('a').string\n",
    "album = info[2].find('a').string\n",
    "title, singer, album"
   ]
  },
  {
   "source": [
    "#### DataFrame으로 만들기"
   ],
   "cell_type": "markdown",
   "metadata": {}
  },
  {
   "cell_type": "code",
   "execution_count": 63,
   "metadata": {},
   "outputs": [],
   "source": [
    "ranks = []; diffs = []\n",
    "titles = []; singers = []; albums = []\n",
    "service_list = soup.select_one('.service_list_song')\n",
    "tbody = service_list.find('tbody')\n",
    "trs = tbody.find_all('tr')"
   ]
  },
  {
   "cell_type": "code",
   "execution_count": 64,
   "metadata": {},
   "outputs": [],
   "source": [
    "for tr in trs:\n",
    "    rank = int(tr.select_one('.rank').string)\n",
    "    \n",
    "    info = tr.select_one('.ellipsis.rank01')\n",
    "    title = info.find('a').string\n",
    "    info = tr.select_one('.ellipsis.rank02')\n",
    "    singer = info.find('a').string\n",
    "    info = tr.select_one('.ellipsis.rank03')\n",
    "    album = info.find('a').string\n",
    "\n",
    "    entry = tr.select_one('.rank_wrap')\n",
    "    spans = entry.find_all('span')\n",
    "    diff = -100\n",
    "    if len(spans) == 3:\n",
    "        diff = int(spans[2].string)\n",
    "        if diff != 0:\n",
    "            sign = spans[2].attrs['class']\n",
    "            if sign[0] == 'down':\n",
    "                diff *= -1\n",
    "    \n",
    "    ranks.append(rank)\n",
    "    diffs.append(diff)\n",
    "    titles.append(title)\n",
    "    singers.append(singer)\n",
    "    albums.append(album)"
   ]
  },
  {
   "cell_type": "code",
   "execution_count": 68,
   "metadata": {},
   "outputs": [
    {
     "output_type": "stream",
     "name": "stdout",
     "text": [
      "기간: 2020.11.09 ~ 2020.11.15\n"
     ]
    },
    {
     "output_type": "execute_result",
     "data": {
      "text/plain": [
       "      diff                  title     singer                       album\n",
       "rank                                                                    \n",
       "1        0               Dynamite      방탄소년단  Dynamite (DayTime Version)\n",
       "2        1           힘든 건 사랑이 아니다        임창정                힘든 건 사랑이 아니다\n",
       "3       -1         Lovesick Girls  BLACKPINK                   THE ALBUM\n",
       "4        1  취기를 빌려 (취향저격 그녀 X 산들)         산들       취기를 빌려 (취향저격 그녀 X 산들)\n",
       "5       -1         DON'T TOUCH ME      환불원정대              DON'T TOUCH ME"
      ],
      "text/html": "<div>\n<style scoped>\n    .dataframe tbody tr th:only-of-type {\n        vertical-align: middle;\n    }\n\n    .dataframe tbody tr th {\n        vertical-align: top;\n    }\n\n    .dataframe thead th {\n        text-align: right;\n    }\n</style>\n<table border=\"1\" class=\"dataframe\">\n  <thead>\n    <tr style=\"text-align: right;\">\n      <th></th>\n      <th>diff</th>\n      <th>title</th>\n      <th>singer</th>\n      <th>album</th>\n    </tr>\n    <tr>\n      <th>rank</th>\n      <th></th>\n      <th></th>\n      <th></th>\n      <th></th>\n    </tr>\n  </thead>\n  <tbody>\n    <tr>\n      <th>1</th>\n      <td>0</td>\n      <td>Dynamite</td>\n      <td>방탄소년단</td>\n      <td>Dynamite (DayTime Version)</td>\n    </tr>\n    <tr>\n      <th>2</th>\n      <td>1</td>\n      <td>힘든 건 사랑이 아니다</td>\n      <td>임창정</td>\n      <td>힘든 건 사랑이 아니다</td>\n    </tr>\n    <tr>\n      <th>3</th>\n      <td>-1</td>\n      <td>Lovesick Girls</td>\n      <td>BLACKPINK</td>\n      <td>THE ALBUM</td>\n    </tr>\n    <tr>\n      <th>4</th>\n      <td>1</td>\n      <td>취기를 빌려 (취향저격 그녀 X 산들)</td>\n      <td>산들</td>\n      <td>취기를 빌려 (취향저격 그녀 X 산들)</td>\n    </tr>\n    <tr>\n      <th>5</th>\n      <td>-1</td>\n      <td>DON'T TOUCH ME</td>\n      <td>환불원정대</td>\n      <td>DON'T TOUCH ME</td>\n    </tr>\n  </tbody>\n</table>\n</div>"
     },
     "metadata": {},
     "execution_count": 68
    }
   ],
   "source": [
    "top100 = pd.DataFrame({\n",
    "            'rank': ranks,\n",
    "            'diff': diffs,\n",
    "            'title': titles,\n",
    "            'singer': singers,\n",
    "            'album': albums\n",
    "})\n",
    "top100 = top100.set_index('rank')\n",
    "print(f'기간: {start_day} ~ {end_day}')\n",
    "top100.head()"
   ]
  },
  {
   "cell_type": "code",
   "execution_count": null,
   "metadata": {},
   "outputs": [],
   "source": []
  }
 ]
}